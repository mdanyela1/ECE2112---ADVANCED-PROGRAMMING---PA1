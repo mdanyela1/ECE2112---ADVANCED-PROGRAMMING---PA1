{
 "cells": [
  {
   "cell_type": "raw",
   "id": "b8ec61f4-0bb5-4e77-926c-ae5c2a2b7c5f",
   "metadata": {},
   "source": [
    "ALPHABET SOUP PROBLEM: Create a function that takes a string and rturns a string with its letters in alphabetical order."
   ]
  },
  {
   "cell_type": "code",
   "execution_count": 10,
   "id": "6d084694-ed73-4186-ae6d-d685583ce67f",
   "metadata": {},
   "outputs": [
    {
     "name": "stdin",
     "output_type": "stream",
     "text": [
      "Please enter a word:  Daniela\n"
     ]
    },
    {
     "name": "stdout",
     "output_type": "stream",
     "text": [
      "Alphabet Soup Result: aaDeiln\n"
     ]
    }
   ],
   "source": [
    "# Function to sort the letters of a word in alphabetical order\n",
    "# (case-insensitive, but keeps original letter case)\n",
    "def alphabet(word):\n",
    "    # sorted() will sort letters while ignoring case using key=str.lower\n",
    "    # \"\".join() combines the list of sorted letters back into a string\n",
    "    return \"\".join(sorted(word, key=str.lower))\n",
    "\n",
    "# Ask the user to input a word\n",
    "word = input(\"Please enter a word: \")\n",
    "\n",
    "# Print the result after sorting letters alphabetically\n",
    "print(\"Alphabet Soup Result:\", alphabet(word))\n"
   ]
  },
  {
   "cell_type": "raw",
   "id": "6b21c689-f65d-4487-8133-53c62313d296",
   "metadata": {},
   "source": [
    "EMOTICON PROBLEM: Create a function that changes specific words into emoticons. Given a sentence as a string, replace the words smile, grin, sad and mad with their corresponding emoticon."
   ]
  },
  {
   "cell_type": "code",
   "execution_count": 4,
   "id": "bb7b55e0-81db-49db-b48c-0b4ea151fe3d",
   "metadata": {},
   "outputs": [
    {
     "name": "stdin",
     "output_type": "stream",
     "text": [
      "Please input a sentence to emotify:  Daniela is sad\n"
     ]
    },
    {
     "name": "stdout",
     "output_type": "stream",
     "text": [
      "Daniela is :((\n"
     ]
    }
   ],
   "source": [
    "def emo(text):\n",
    "    # Replace words with emoticons\n",
    "    word = text.replace(\"smile\", \":)\")\n",
    "    word = word.replace(\"grin\", \":D\")\n",
    "    word = word.replace(\"sad\", \":((\")\n",
    "    word = word.replace(\"mad\", \">:(\")\n",
    "    \n",
    "    return word\n",
    "\n",
    "# Input sentence\n",
    "sentence = input(\"Please input a sentence to emotify: \")\n",
    "\n",
    "# Use the emo function and print result\n",
    "print(emo(sentence))"
   ]
  },
  {
   "cell_type": "raw",
   "id": "9c0fb7ec-e4ce-4e2b-aec0-ccd8a54d0881",
   "metadata": {},
   "source": [
    "UNPACKING LIST PROBLEM: Unpack the list write your code here into three variables, being first, middle, and last, with middle being everything in between the first and last element. Then print all three variables. "
   ]
  },
  {
   "cell_type": "code",
   "execution_count": 5,
   "id": "a68935ed-a37e-4101-aefd-e38b17a02dfc",
   "metadata": {},
   "outputs": [
    {
     "name": "stdout",
     "output_type": "stream",
     "text": [
      "first: 1\n",
      "middle: [2, 3, 4, 5]\n",
      "last: 6\n"
     ]
    }
   ],
   "source": [
    "# Define the original list\n",
    "First = [1, 2, 3, 4, 5, 6]\n",
    "\n",
    "# Unpack the list into three parts:\n",
    "# - first element (First[0])\n",
    "# - all elements except first and last (First[1:-1])\n",
    "# - last element (First[-1])\n",
    "first, middle, last = First[0], First[1:-1], First[-1]\n",
    "\n",
    "# Print the results\n",
    "print('first:', first)    # Displays the first element of the list\n",
    "print('middle:', middle)  # Displays all elements between first and last\n",
    "print('last:', last)      # Displays the last element of the list"
   ]
  }
 ],
 "metadata": {
  "kernelspec": {
   "display_name": "Python 3 (ipykernel)",
   "language": "python",
   "name": "python3"
  },
  "language_info": {
   "codemirror_mode": {
    "name": "ipython",
    "version": 3
   },
   "file_extension": ".py",
   "mimetype": "text/x-python",
   "name": "python",
   "nbconvert_exporter": "python",
   "pygments_lexer": "ipython3",
   "version": "3.13.5"
  }
 },
 "nbformat": 4,
 "nbformat_minor": 5
}
